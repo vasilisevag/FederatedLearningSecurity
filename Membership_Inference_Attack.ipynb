{
  "cells": [
    {
      "cell_type": "markdown",
      "metadata": {
        "id": "a084d0fc"
      },
      "source": [
        "# Federated Learning Model Poisoning Attack Simulation"
      ],
      "id": "a084d0fc"
    },
    {
      "cell_type": "code",
      "execution_count": 1,
      "metadata": {
        "id": "c41d4476"
      },
      "outputs": [],
      "source": [
        "!pip install -q flwr[simulation] torch torchvision matplotlib\n",
        "\n",
        "from collections import OrderedDict\n",
        "from typing import List, Tuple, Optional, Callable\n",
        "from matplotlib import pyplot as plt\n",
        "import certifi\n",
        "import ssl\n",
        "import numpy as np\n",
        "import torch\n",
        "import torch.nn as nn\n",
        "import torch.nn.functional as F\n",
        "import torchvision\n",
        "import torchvision.transforms as transforms\n",
        "from torch.utils.data import DataLoader, random_split, Dataset, Subset\n",
        "from torchvision.datasets import CIFAR10\n",
        "import flwr as fl\n",
        "from flwr.common import Metrics\n",
        "import os\n",
        "\n",
        "os.environ[\"KMP_DUPLICATE_LIB_OK\"]=\"TRUE\" # fixed something with matplotlib killing the kernel\n",
        "ssl._create_default_https_context = ssl._create_unverified_context  # fixed something with the ssl certificate of the dataset\n",
        "DEVICE = torch.device(\"cpu\")  # \"cpu\" -> train in cpu | \"cuda\" -> train in gpu"
      ],
      "id": "c41d4476"
    },
    {
      "cell_type": "code",
      "execution_count": 2,
      "metadata": {
        "id": "225fa440"
      },
      "outputs": [],
      "source": [
        "from logging import WARNING # we need those imports to implement the strategy class\n",
        "from typing import Callable, Dict, List, Optional, Tuple, Union\n",
        "\n",
        "from flwr.common import (\n",
        "    EvaluateIns,\n",
        "    EvaluateRes,\n",
        "    FitIns,\n",
        "    FitRes,\n",
        "    MetricsAggregationFn,\n",
        "    NDArrays,\n",
        "    Parameters,\n",
        "    Scalar,\n",
        "    ndarrays_to_parameters,\n",
        "    parameters_to_ndarrays,\n",
        ")\n",
        "from flwr.common.logger import log\n",
        "from flwr.server.client_manager import ClientManager\n",
        "from flwr.server.client_proxy import ClientProxy\n",
        "\n",
        "from flwr.server.strategy.aggregate import aggregate, weighted_loss_avg, aggregate_krum\n",
        "from flwr.server.strategy.strategy import Strategy"
      ],
      "id": "225fa440"
    },
    {
      "cell_type": "code",
      "execution_count": 3,
      "metadata": {
        "id": "e7a839c4"
      },
      "outputs": [],
      "source": [
        "CLASSES = (\"plane\", \"car\", \"bird\", \"cat\", \"deer\", \"dog\", \"frog\", \"horse\", \"ship\", \"truck\") # classes of the example dataset\n",
        "\n",
        "NUM_CLIENTS = 10 # this is the number of devices participating in the federated learning\n",
        "\n",
        "BATCH_SIZE = 32 # this is the size of a mini-batch for the training of a CNN using SGD"
      ],
      "id": "e7a839c4"
    },
    {
      "cell_type": "code",
      "execution_count": 4,
      "metadata": {
        "colab": {
          "base_uri": "https://localhost:8080/"
        },
        "id": "fe1dcda9",
        "outputId": "e1fa42e1-24cc-45ec-e95e-4a59ffd92a04"
      },
      "outputs": [
        {
          "output_type": "stream",
          "name": "stdout",
          "text": [
            "Files already downloaded and verified\n",
            "Files already downloaded and verified\n"
          ]
        }
      ],
      "source": [
        "def load_datasets(): # download and transform cifar-10\n",
        "    transform = transforms.Compose(\n",
        "        [transforms.ToTensor(), transforms.Normalize((0.5, 0.5, 0.5), (0.5, 0.5, 0.5))]\n",
        "    )\n",
        "    trainset = CIFAR10(\"./dataset\", train=True, download=True, transform=transform)\n",
        "    testset = CIFAR10(\"./dataset\", train=False, download=True, transform=transform)\n",
        "\n",
        "    # split training set into 10 partitions to simulate the individual dataset\n",
        "    partition_size = len(trainset) // NUM_CLIENTS\n",
        "    lengths = [partition_size] * NUM_CLIENTS\n",
        "    datasets = random_split(trainset, lengths, torch.Generator().manual_seed(42))\n",
        "\n",
        "    # split each partition into train/val and create DataLoader\n",
        "    trainloaders = []\n",
        "    valloaders = []\n",
        "    shadowloaders = []\n",
        "    ctr = 1\n",
        "    for ds in datasets:\n",
        "        len_val = len(ds) // 10  # 10% validation set\n",
        "        len_train = len(ds) - len_val\n",
        "        lengths = [len_train, len_val]\n",
        "        ds_train, ds_val = random_split(ds, lengths, torch.Generator().manual_seed(42))\n",
        "        trainloaders.append(DataLoader(ds_train, batch_size=BATCH_SIZE, shuffle=True))\n",
        "        valloaders.append(DataLoader(ds_val, batch_size=BATCH_SIZE))\n",
        "        ctr = ctr + 1\n",
        "    testloader = DataLoader(testset, batch_size=BATCH_SIZE)\n",
        "    return trainloaders, valloaders, testloader, shadowloaders\n",
        "\n",
        "trainloaders, valloaders, testloader, shadowloaders = load_datasets() # load the datasets"
      ],
      "id": "fe1dcda9"
    },
    {
      "cell_type": "code",
      "source": [
        "class AttackMLP(nn.Module):\n",
        "    def __init__(self, input_size, hidden_size=64,out_classes=2):\n",
        "        super(AttackMLP, self).__init__()\n",
        "        self.classifier = nn.Sequential(\n",
        "            nn.Linear(input_size, hidden_size),\n",
        "            nn.ReLU(inplace=True),\n",
        "            nn.Linear(hidden_size, out_classes)\n",
        "        )\n",
        "    def forward(self, x):\n",
        "        out = self.classifier(x)\n",
        "        probas = F.softmax(out, dim=1)\n",
        "        return out, probas"
      ],
      "metadata": {
        "id": "MjU0RegAttUm"
      },
      "id": "MjU0RegAttUm",
      "execution_count": 5,
      "outputs": []
    },
    {
      "cell_type": "code",
      "execution_count": 6,
      "metadata": {
        "id": "876b7b4b"
      },
      "outputs": [],
      "source": [
        "class LeNet5(nn.Module):\n",
        "    def __init__(self, num_classes, grayscale=False):\n",
        "        super(LeNet5, self).__init__()\n",
        "\n",
        "        self.grayscale = grayscale\n",
        "        self.num_classes = num_classes\n",
        "\n",
        "        if self.grayscale:\n",
        "            in_channels = 1\n",
        "        else:\n",
        "            in_channels = 3\n",
        "\n",
        "        self.features = nn.Sequential(\n",
        "\n",
        "            nn.Conv2d(in_channels, 6*in_channels, kernel_size=5),\n",
        "            nn.Tanh(),\n",
        "            nn.MaxPool2d(kernel_size=2),\n",
        "            nn.Conv2d(6*in_channels, 16*in_channels, kernel_size=5),\n",
        "            nn.Tanh(),\n",
        "            nn.MaxPool2d(kernel_size=2)\n",
        "        )\n",
        "\n",
        "        self.classifier = nn.Sequential(\n",
        "            nn.Linear(16*5*5*in_channels, 120*in_channels),\n",
        "            nn.Tanh(),\n",
        "            nn.Linear(120*in_channels, 84*in_channels),\n",
        "            nn.Tanh(),\n",
        "            nn.Linear(84*in_channels, num_classes),\n",
        "        )\n",
        "\n",
        "\n",
        "    def forward(self, x):\n",
        "        x = self.features(x)\n",
        "        x = torch.flatten(x, 1)\n",
        "        logits = self.classifier(x)\n",
        "        probas = F.softmax(logits, dim=1)\n",
        "        return logits, probas"
      ],
      "id": "876b7b4b"
    },
    {
      "cell_type": "code",
      "execution_count": 7,
      "metadata": {
        "id": "2d8d6556"
      },
      "outputs": [],
      "source": [
        "def train(net, trainloader, epochs: int, verbose=False): # we need a train and a test function that our clients will be using\n",
        "    criterion = torch.nn.CrossEntropyLoss()\n",
        "    optimizer = torch.optim.Adam(net.parameters())\n",
        "    net.train()\n",
        "    for epoch in range(epochs):\n",
        "\n",
        "        correct, total, epoch_loss = 0, 0, 0.0\n",
        "        for images, labels in trainloader:\n",
        "            images, labels = images.to(DEVICE), labels.to(DEVICE)\n",
        "            optimizer.zero_grad() # reset the gradients\n",
        "            outputs, _ = net(images) # do the forward pass\n",
        "            loss = criterion(outputs, labels) # calculate the loss function\n",
        "            loss.backward() # calculate the gradients of the loss function\n",
        "            optimizer.step() # do one stochastic gradient descent step\n",
        "            epoch_loss += loss\n",
        "            total += labels.size(0)\n",
        "            correct += (torch.max(outputs.data, 1)[1] == labels).sum().item()\n",
        "        epoch_loss /= len(trainloader.dataset)\n",
        "        epoch_acc = correct / total\n",
        "\n",
        "        if verbose: # log information\n",
        "            print(f\"Epoch {epoch+1}: train loss {epoch_loss}, accuracy {epoch_acc}\")\n",
        "\n",
        "\n",
        "def test(net, testloader):\n",
        "    criterion = torch.nn.CrossEntropyLoss()\n",
        "    correct, total, loss = 0, 0, 0.0\n",
        "    net.eval()\n",
        "    with torch.no_grad():\n",
        "        for images, labels in testloader:\n",
        "            images, labels = images.to(DEVICE), labels.to(DEVICE)\n",
        "            outputs, probas = net(images)\n",
        "            loss += criterion(outputs, labels).item()\n",
        "            _, predicted = torch.max(probas.data, 1)\n",
        "            total += labels.size(0)\n",
        "            correct += (predicted == labels).sum().item()\n",
        "    loss /= len(testloader.dataset)\n",
        "    accuracy = correct / total\n",
        "    return loss, accuracy"
      ],
      "id": "2d8d6556"
    },
    {
      "cell_type": "code",
      "execution_count": 8,
      "metadata": {
        "id": "88a324a2"
      },
      "outputs": [],
      "source": [
        "def get_parameters(net) -> List[np.ndarray]: # we need these two function because this way flower knows how\n",
        "    return [val.cpu().numpy() for _, val in net.state_dict().items()] # to serialize/deserialize data\n",
        "\n",
        "def set_parameters(net, parameters: List[np.ndarray]):\n",
        "    params_dict = zip(net.state_dict().keys(), parameters)\n",
        "    state_dict = OrderedDict({k: torch.Tensor(v) for k, v in params_dict})\n",
        "    net.load_state_dict(state_dict, strict=True)"
      ],
      "id": "88a324a2"
    },
    {
      "cell_type": "code",
      "execution_count": 9,
      "metadata": {
        "id": "9a3bd9fc"
      },
      "outputs": [],
      "source": [
        "class FlowerClient(fl.client.NumPyClient): # here we define the FlowerClient. We have to implement only the following 3 methods\n",
        "    def __init__(self, net, trainloader, valloader): # of course we can customize these methods as we like\n",
        "        self.net = net                            # we can add extra member variables as well\n",
        "        self.trainloader = trainloader\n",
        "        self.valloader = valloader\n",
        "\n",
        "    def get_parameters(self, config):\n",
        "        return get_parameters(self.net)\n",
        "\n",
        "    def fit(self, parameters, config):\n",
        "        set_parameters(self.net, parameters)\n",
        "        train(self.net, self.trainloader, epochs=1)\n",
        "        return get_parameters(self.net), len(self.trainloader), {}\n",
        "\n",
        "    def evaluate(self, parameters, config):\n",
        "        set_parameters(self.net, parameters)\n",
        "        loss, accuracy = test(self.net, self.valloader)\n",
        "        return float(loss), len(self.valloader), {\"accuracy\": float(accuracy)}"
      ],
      "id": "9a3bd9fc"
    },
    {
      "cell_type": "code",
      "execution_count": 10,
      "metadata": {
        "id": "0acd8c0d"
      },
      "outputs": [],
      "source": [
        "class BenignFlowerClient(FlowerClient):\n",
        "    def __init__(self, net, trainloader, valloader):\n",
        "        super().__init__(net, trainloader, valloader)\n",
        "\n",
        "    def fit(self, parameters, config):\n",
        "        #print(\"Benign Client Got Selected\", flush=True)\n",
        "        parameters, num_examples, _ = super().fit(parameters, config)\n",
        "        return parameters, num_examples, {\"intention\": \"BENIGN\"}\n",
        "\n",
        "class MaliciousFlowerClient(FlowerClient):\n",
        "    def __init__(self, net, trainloader, valloader):\n",
        "        super().__init__(net, trainloader, valloader)\n",
        "\n",
        "    def fit(self, parameters, config):\n",
        "        #print(\"Malicious Client Got Selected\", flush=True)\n",
        "        parameters, num_examples, _ = super().fit(parameters, config)\n",
        "        return parameters, num_examples, {\"intention\": \"MALICIOUS\"}"
      ],
      "id": "0acd8c0d"
    },
    {
      "cell_type": "code",
      "execution_count": 11,
      "metadata": {
        "id": "53436036"
      },
      "outputs": [],
      "source": [
        "def client_fn(cid: str) -> FlowerClient: # this is a factory function (factory desing pattern)\n",
        "    net = LeNet5(10).to(DEVICE) # flower calls this function to create FlowerClients on demand (this way it uses less memory)\n",
        "    trainloader = trainloaders[int(cid)]\n",
        "    valloader = valloaders[int(cid)]\n",
        "\n",
        "    if int(cid) <= NUM_CLIENTS * 0.2:    # 20 - 80 --> malicious - benign\n",
        "        return MaliciousFlowerClient(net, trainloader, valloader)\n",
        "    else:\n",
        "        return BenignFlowerClient(net, trainloader, valloader)"
      ],
      "id": "53436036"
    },
    {
      "cell_type": "code",
      "execution_count": 12,
      "metadata": {
        "id": "70f89874"
      },
      "outputs": [],
      "source": [
        "def weighted_average(metrics: List[Tuple[int, Metrics]]) -> Metrics: # we pass this function as an argument to the Strategy\n",
        "    # calculate accuracy\n",
        "    accuracies = [num_examples * m[\"accuracy\"] for num_examples, m in metrics]\n",
        "    examples = [num_examples for num_examples, _ in metrics]\n",
        "\n",
        "    # return it as a dictionary\n",
        "    return {\"accuracy\": sum(accuracies) / sum(examples)}"
      ],
      "id": "70f89874"
    },
    {
      "cell_type": "code",
      "source": [
        "federatedModel = LeNet5(10)"
      ],
      "metadata": {
        "id": "HWCt6JB-um6W"
      },
      "id": "HWCt6JB-um6W",
      "execution_count": 13,
      "outputs": []
    },
    {
      "cell_type": "code",
      "execution_count": 14,
      "metadata": {
        "id": "0a7aa153"
      },
      "outputs": [],
      "source": [
        "class AttackSimulationStrategy(fl.server.strategy.FedAvg): # we inherit from FedAvg strategy and change only what we need\n",
        "    def __init__(self, *, fraction_fit: float = 1.0, fraction_evaluate: float = 1.0, min_fit_clients: int = 2,\n",
        "        min_evaluate_clients: int = 2, min_available_clients: int = 2, num_malicious_clients: int = 2,\n",
        "        num_clients_to_keep: int = 0, evaluate_fn: Optional[Callable[[int, NDArrays, Dict[str, Scalar]],\n",
        "        Optional[Tuple[float, Dict[str, Scalar]]],]] = None, on_fit_config_fn: Optional[Callable[[int], Dict[str, Scalar]]] = None,\n",
        "        on_evaluate_config_fn: Optional[Callable[[int], Dict[str, Scalar]]] = None, accept_failures: bool = True,\n",
        "        initial_parameters: Optional[Parameters] = None, fit_metrics_aggregation_fn: Optional[MetricsAggregationFn] = None,\n",
        "        evaluate_metrics_aggregation_fn: Optional[MetricsAggregationFn] = None,\n",
        "        perturbationVector: str, adversaryKnowledge: str\n",
        "    ) -> None:\n",
        "        super().__init__(\n",
        "            fraction_fit=fraction_fit, fraction_evaluate=fraction_evaluate, min_fit_clients=min_fit_clients,\n",
        "            min_evaluate_clients=min_evaluate_clients, min_available_clients=min_available_clients, evaluate_fn=evaluate_fn,\n",
        "            on_fit_config_fn=on_fit_config_fn, on_evaluate_config_fn=on_evaluate_config_fn, accept_failures=accept_failures,\n",
        "            initial_parameters=initial_parameters, fit_metrics_aggregation_fn=fit_metrics_aggregation_fn,\n",
        "            evaluate_metrics_aggregation_fn=evaluate_metrics_aggregation_fn,\n",
        "        )\n",
        "        self.num_malicious_clients = num_malicious_clients\n",
        "        self.num_clients_to_keep = num_clients_to_keep\n",
        "        self.perturbationVector = perturbationVector\n",
        "        self.adversaryKnowledge = adversaryKnowledge\n",
        "\n",
        "    def __repr__(self) -> str:\n",
        "        rep = f\"AttackSimulationStrategy(accept_failures={self.accept_failures})\"\n",
        "        return rep\n",
        "\n",
        "    def aggregate_fit(self, server_round: int, results: List[Tuple[ClientProxy, FitRes]],\n",
        "        failures: List[Union[Tuple[ClientProxy, FitRes], BaseException]],) -> Tuple[Optional[Parameters], Dict[str, Scalar]]:\n",
        "\n",
        "        if not results: # boilerplate code to handle exceptions\n",
        "            return None, {}\n",
        "        if not self.accept_failures and failures:\n",
        "            return None, {}\n",
        "\n",
        "        # convert results\n",
        "        total_weights_results = [(parameters_to_ndarrays(fit_res.parameters), fit_res.num_examples) for _, fit_res in results]\n",
        "\n",
        "        # calculate AGR\n",
        "        parameters_aggregated = ndarrays_to_parameters(aggregate(total_weights_results))\n",
        "\n",
        "        # update federated learning model\n",
        "        set_parameters(federatedModel, parameters_to_ndarrays(parameters_aggregated))\n",
        "\n",
        "        # boilerplate code if aggregation metrics are provided\n",
        "        metrics_aggregated = {}\n",
        "        if self.fit_metrics_aggregation_fn:\n",
        "            fit_metrics = [(res.num_examples, res.metrics) for _, res in results]\n",
        "            metrics_aggregated = self.fit_metrics_aggregation_fn(fit_metrics)\n",
        "        elif server_round == 1:  # Only log this warning once\n",
        "            log(WARNING, \"No fit_metrics_aggregation_fn provided\")\n",
        "\n",
        "        return parameters_aggregated, metrics_aggregated\n",
        "\n"
      ],
      "id": "0a7aa153"
    },
    {
      "cell_type": "code",
      "execution_count": 15,
      "metadata": {
        "id": "1befdde0",
        "outputId": "db4809f1-3d17-4dea-b3bc-9563fa5d7810",
        "colab": {
          "base_uri": "https://localhost:8080/"
        }
      },
      "outputs": [
        {
          "output_type": "stream",
          "name": "stderr",
          "text": [
            "INFO flwr 2023-11-12 13:27:07,691 | app.py:175 | Starting Flower simulation, config: ServerConfig(num_rounds=11, round_timeout=None)\n",
            "INFO:flwr:Starting Flower simulation, config: ServerConfig(num_rounds=11, round_timeout=None)\n",
            "2023-11-12 13:27:14,406\tINFO worker.py:1621 -- Started a local Ray instance.\n",
            "INFO flwr 2023-11-12 13:27:18,829 | app.py:210 | Flower VCE: Ray initialized with resources: {'object_store_memory': 3931575091.0, 'memory': 7863150183.0, 'CPU': 2.0, 'node:__internal_head__': 1.0, 'node:172.28.0.12': 1.0}\n",
            "INFO:flwr:Flower VCE: Ray initialized with resources: {'object_store_memory': 3931575091.0, 'memory': 7863150183.0, 'CPU': 2.0, 'node:__internal_head__': 1.0, 'node:172.28.0.12': 1.0}\n",
            "INFO flwr 2023-11-12 13:27:18,835 | app.py:218 | No `client_resources` specified. Using minimal resources for clients.\n",
            "INFO:flwr:No `client_resources` specified. Using minimal resources for clients.\n",
            "INFO flwr 2023-11-12 13:27:18,841 | app.py:224 | Flower VCE: Resources for each Virtual Client: {'num_cpus': 1, 'num_gpus': 0.0}\n",
            "INFO:flwr:Flower VCE: Resources for each Virtual Client: {'num_cpus': 1, 'num_gpus': 0.0}\n",
            "INFO flwr 2023-11-12 13:27:18,906 | app.py:270 | Flower VCE: Creating VirtualClientEngineActorPool with 2 actors\n",
            "INFO:flwr:Flower VCE: Creating VirtualClientEngineActorPool with 2 actors\n",
            "INFO flwr 2023-11-12 13:27:18,910 | server.py:89 | Initializing global parameters\n",
            "INFO:flwr:Initializing global parameters\n",
            "INFO flwr 2023-11-12 13:27:18,914 | server.py:276 | Requesting initial parameters from one random client\n",
            "INFO:flwr:Requesting initial parameters from one random client\n",
            "\u001b[2m\u001b[36m(pid=19136)\u001b[0m 2023-11-12 13:27:32.180368: E tensorflow/compiler/xla/stream_executor/cuda/cuda_dnn.cc:9342] Unable to register cuDNN factory: Attempting to register factory for plugin cuDNN when one has already been registered\n",
            "\u001b[2m\u001b[36m(pid=19136)\u001b[0m 2023-11-12 13:27:32.180466: E tensorflow/compiler/xla/stream_executor/cuda/cuda_fft.cc:609] Unable to register cuFFT factory: Attempting to register factory for plugin cuFFT when one has already been registered\n",
            "\u001b[2m\u001b[36m(pid=19136)\u001b[0m 2023-11-12 13:27:32.180507: E tensorflow/compiler/xla/stream_executor/cuda/cuda_blas.cc:1518] Unable to register cuBLAS factory: Attempting to register factory for plugin cuBLAS when one has already been registered\n",
            "\u001b[2m\u001b[36m(pid=19136)\u001b[0m 2023-11-12 13:27:36.704463: W tensorflow/compiler/tf2tensorrt/utils/py_utils.cc:38] TF-TRT Warning: Could not find TensorRT\n",
            "\u001b[2m\u001b[36m(pid=19135)\u001b[0m 2023-11-12 13:27:32.376724: E tensorflow/compiler/xla/stream_executor/cuda/cuda_dnn.cc:9342] Unable to register cuDNN factory: Attempting to register factory for plugin cuDNN when one has already been registered\n",
            "\u001b[2m\u001b[36m(pid=19135)\u001b[0m 2023-11-12 13:27:32.376840: E tensorflow/compiler/xla/stream_executor/cuda/cuda_fft.cc:609] Unable to register cuFFT factory: Attempting to register factory for plugin cuFFT when one has already been registered\n",
            "\u001b[2m\u001b[36m(pid=19135)\u001b[0m 2023-11-12 13:27:32.376976: E tensorflow/compiler/xla/stream_executor/cuda/cuda_blas.cc:1518] Unable to register cuBLAS factory: Attempting to register factory for plugin cuBLAS when one has already been registered\n",
            "INFO flwr 2023-11-12 13:27:49,506 | server.py:280 | Received initial parameters from one random client\n",
            "INFO:flwr:Received initial parameters from one random client\n",
            "INFO flwr 2023-11-12 13:27:49,517 | server.py:91 | Evaluating initial parameters\n",
            "INFO:flwr:Evaluating initial parameters\n",
            "INFO flwr 2023-11-12 13:27:49,521 | server.py:104 | FL starting\n",
            "INFO:flwr:FL starting\n",
            "DEBUG flwr 2023-11-12 13:27:49,526 | server.py:222 | fit_round 1: strategy sampled 4 clients (out of 4)\n",
            "DEBUG:flwr:fit_round 1: strategy sampled 4 clients (out of 4)\n",
            "DEBUG flwr 2023-11-12 13:28:32,722 | server.py:236 | fit_round 1 received 4 results and 0 failures\n",
            "DEBUG:flwr:fit_round 1 received 4 results and 0 failures\n",
            "WARNING flwr 2023-11-12 13:28:32,785 | <ipython-input-14-bfb4726fe0df>:50 | No fit_metrics_aggregation_fn provided\n",
            "WARNING:flwr:No fit_metrics_aggregation_fn provided\n",
            "DEBUG flwr 2023-11-12 13:28:32,790 | server.py:173 | evaluate_round 1: strategy sampled 4 clients (out of 4)\n",
            "DEBUG:flwr:evaluate_round 1: strategy sampled 4 clients (out of 4)\n",
            "DEBUG flwr 2023-11-12 13:28:41,655 | server.py:187 | evaluate_round 1 received 4 results and 0 failures\n",
            "DEBUG:flwr:evaluate_round 1 received 4 results and 0 failures\n",
            "DEBUG flwr 2023-11-12 13:28:41,660 | server.py:222 | fit_round 2: strategy sampled 4 clients (out of 4)\n",
            "DEBUG:flwr:fit_round 2: strategy sampled 4 clients (out of 4)\n",
            "DEBUG flwr 2023-11-12 13:29:20,786 | server.py:236 | fit_round 2 received 4 results and 0 failures\n",
            "DEBUG:flwr:fit_round 2 received 4 results and 0 failures\n",
            "DEBUG flwr 2023-11-12 13:29:20,823 | server.py:173 | evaluate_round 2: strategy sampled 4 clients (out of 4)\n",
            "DEBUG:flwr:evaluate_round 2: strategy sampled 4 clients (out of 4)\n",
            "DEBUG flwr 2023-11-12 13:29:30,994 | server.py:187 | evaluate_round 2 received 4 results and 0 failures\n",
            "DEBUG:flwr:evaluate_round 2 received 4 results and 0 failures\n",
            "DEBUG flwr 2023-11-12 13:29:30,998 | server.py:222 | fit_round 3: strategy sampled 4 clients (out of 4)\n",
            "DEBUG:flwr:fit_round 3: strategy sampled 4 clients (out of 4)\n",
            "DEBUG flwr 2023-11-12 13:30:04,831 | server.py:236 | fit_round 3 received 4 results and 0 failures\n",
            "DEBUG:flwr:fit_round 3 received 4 results and 0 failures\n",
            "DEBUG flwr 2023-11-12 13:30:04,870 | server.py:173 | evaluate_round 3: strategy sampled 4 clients (out of 4)\n",
            "DEBUG:flwr:evaluate_round 3: strategy sampled 4 clients (out of 4)\n",
            "DEBUG flwr 2023-11-12 13:30:16,626 | server.py:187 | evaluate_round 3 received 4 results and 0 failures\n",
            "DEBUG:flwr:evaluate_round 3 received 4 results and 0 failures\n",
            "DEBUG flwr 2023-11-12 13:30:16,634 | server.py:222 | fit_round 4: strategy sampled 4 clients (out of 4)\n",
            "DEBUG:flwr:fit_round 4: strategy sampled 4 clients (out of 4)\n",
            "DEBUG flwr 2023-11-12 13:30:54,469 | server.py:236 | fit_round 4 received 4 results and 0 failures\n",
            "DEBUG:flwr:fit_round 4 received 4 results and 0 failures\n",
            "DEBUG flwr 2023-11-12 13:30:54,516 | server.py:173 | evaluate_round 4: strategy sampled 4 clients (out of 4)\n",
            "DEBUG:flwr:evaluate_round 4: strategy sampled 4 clients (out of 4)\n",
            "DEBUG flwr 2023-11-12 13:31:02,797 | server.py:187 | evaluate_round 4 received 4 results and 0 failures\n",
            "DEBUG:flwr:evaluate_round 4 received 4 results and 0 failures\n",
            "DEBUG flwr 2023-11-12 13:31:02,801 | server.py:222 | fit_round 5: strategy sampled 4 clients (out of 4)\n",
            "DEBUG:flwr:fit_round 5: strategy sampled 4 clients (out of 4)\n",
            "DEBUG flwr 2023-11-12 13:31:45,517 | server.py:236 | fit_round 5 received 4 results and 0 failures\n",
            "DEBUG:flwr:fit_round 5 received 4 results and 0 failures\n",
            "DEBUG flwr 2023-11-12 13:31:45,553 | server.py:173 | evaluate_round 5: strategy sampled 4 clients (out of 4)\n",
            "DEBUG:flwr:evaluate_round 5: strategy sampled 4 clients (out of 4)\n",
            "DEBUG flwr 2023-11-12 13:31:54,322 | server.py:187 | evaluate_round 5 received 4 results and 0 failures\n",
            "DEBUG:flwr:evaluate_round 5 received 4 results and 0 failures\n",
            "DEBUG flwr 2023-11-12 13:31:54,332 | server.py:222 | fit_round 6: strategy sampled 4 clients (out of 4)\n",
            "DEBUG:flwr:fit_round 6: strategy sampled 4 clients (out of 4)\n",
            "DEBUG flwr 2023-11-12 13:32:29,010 | server.py:236 | fit_round 6 received 4 results and 0 failures\n",
            "DEBUG:flwr:fit_round 6 received 4 results and 0 failures\n",
            "DEBUG flwr 2023-11-12 13:32:29,048 | server.py:173 | evaluate_round 6: strategy sampled 4 clients (out of 4)\n",
            "DEBUG:flwr:evaluate_round 6: strategy sampled 4 clients (out of 4)\n",
            "DEBUG flwr 2023-11-12 13:32:39,451 | server.py:187 | evaluate_round 6 received 4 results and 0 failures\n",
            "DEBUG:flwr:evaluate_round 6 received 4 results and 0 failures\n",
            "DEBUG flwr 2023-11-12 13:32:39,459 | server.py:222 | fit_round 7: strategy sampled 4 clients (out of 4)\n",
            "DEBUG:flwr:fit_round 7: strategy sampled 4 clients (out of 4)\n",
            "DEBUG flwr 2023-11-12 13:33:10,327 | server.py:236 | fit_round 7 received 4 results and 0 failures\n",
            "DEBUG:flwr:fit_round 7 received 4 results and 0 failures\n",
            "DEBUG flwr 2023-11-12 13:33:10,360 | server.py:173 | evaluate_round 7: strategy sampled 4 clients (out of 4)\n",
            "DEBUG:flwr:evaluate_round 7: strategy sampled 4 clients (out of 4)\n",
            "DEBUG flwr 2023-11-12 13:33:21,346 | server.py:187 | evaluate_round 7 received 4 results and 0 failures\n",
            "DEBUG:flwr:evaluate_round 7 received 4 results and 0 failures\n",
            "DEBUG flwr 2023-11-12 13:33:21,353 | server.py:222 | fit_round 8: strategy sampled 4 clients (out of 4)\n",
            "DEBUG:flwr:fit_round 8: strategy sampled 4 clients (out of 4)\n",
            "DEBUG flwr 2023-11-12 13:33:52,150 | server.py:236 | fit_round 8 received 4 results and 0 failures\n",
            "DEBUG:flwr:fit_round 8 received 4 results and 0 failures\n",
            "DEBUG flwr 2023-11-12 13:33:52,190 | server.py:173 | evaluate_round 8: strategy sampled 4 clients (out of 4)\n",
            "DEBUG:flwr:evaluate_round 8: strategy sampled 4 clients (out of 4)\n",
            "DEBUG flwr 2023-11-12 13:34:03,113 | server.py:187 | evaluate_round 8 received 4 results and 0 failures\n",
            "DEBUG:flwr:evaluate_round 8 received 4 results and 0 failures\n",
            "DEBUG flwr 2023-11-12 13:34:03,120 | server.py:222 | fit_round 9: strategy sampled 4 clients (out of 4)\n",
            "DEBUG:flwr:fit_round 9: strategy sampled 4 clients (out of 4)\n",
            "DEBUG flwr 2023-11-12 13:34:35,369 | server.py:236 | fit_round 9 received 4 results and 0 failures\n",
            "DEBUG:flwr:fit_round 9 received 4 results and 0 failures\n",
            "DEBUG flwr 2023-11-12 13:34:35,417 | server.py:173 | evaluate_round 9: strategy sampled 4 clients (out of 4)\n",
            "DEBUG:flwr:evaluate_round 9: strategy sampled 4 clients (out of 4)\n",
            "DEBUG flwr 2023-11-12 13:34:45,144 | server.py:187 | evaluate_round 9 received 4 results and 0 failures\n",
            "DEBUG:flwr:evaluate_round 9 received 4 results and 0 failures\n",
            "DEBUG flwr 2023-11-12 13:34:45,148 | server.py:222 | fit_round 10: strategy sampled 4 clients (out of 4)\n",
            "DEBUG:flwr:fit_round 10: strategy sampled 4 clients (out of 4)\n",
            "DEBUG flwr 2023-11-12 13:35:21,545 | server.py:236 | fit_round 10 received 4 results and 0 failures\n",
            "DEBUG:flwr:fit_round 10 received 4 results and 0 failures\n",
            "DEBUG flwr 2023-11-12 13:35:21,577 | server.py:173 | evaluate_round 10: strategy sampled 4 clients (out of 4)\n",
            "DEBUG:flwr:evaluate_round 10: strategy sampled 4 clients (out of 4)\n",
            "DEBUG flwr 2023-11-12 13:35:29,180 | server.py:187 | evaluate_round 10 received 4 results and 0 failures\n",
            "DEBUG:flwr:evaluate_round 10 received 4 results and 0 failures\n",
            "DEBUG flwr 2023-11-12 13:35:29,183 | server.py:222 | fit_round 11: strategy sampled 4 clients (out of 4)\n",
            "DEBUG:flwr:fit_round 11: strategy sampled 4 clients (out of 4)\n",
            "DEBUG flwr 2023-11-12 13:36:11,357 | server.py:236 | fit_round 11 received 4 results and 0 failures\n",
            "DEBUG:flwr:fit_round 11 received 4 results and 0 failures\n",
            "DEBUG flwr 2023-11-12 13:36:11,417 | server.py:173 | evaluate_round 11: strategy sampled 4 clients (out of 4)\n",
            "DEBUG:flwr:evaluate_round 11: strategy sampled 4 clients (out of 4)\n",
            "DEBUG flwr 2023-11-12 13:36:22,095 | server.py:187 | evaluate_round 11 received 4 results and 0 failures\n",
            "DEBUG:flwr:evaluate_round 11 received 4 results and 0 failures\n",
            "INFO flwr 2023-11-12 13:36:22,100 | server.py:153 | FL finished in 512.5745466200005\n",
            "INFO:flwr:FL finished in 512.5745466200005\n",
            "INFO flwr 2023-11-12 13:36:22,108 | app.py:225 | app_fit: losses_distributed [(1, 0.05155415552854538), (2, 0.04607659864425659), (3, 0.04418485963344574), (4, 0.04249339574575424), (5, 0.04083650803565979), (6, 0.039701302975416186), (7, 0.039136862814426424), (8, 0.038643124163150785), (9, 0.038292179226875306), (10, 0.037774369597435), (11, 0.037304241716861725)]\n",
            "INFO:flwr:app_fit: losses_distributed [(1, 0.05155415552854538), (2, 0.04607659864425659), (3, 0.04418485963344574), (4, 0.04249339574575424), (5, 0.04083650803565979), (6, 0.039701302975416186), (7, 0.039136862814426424), (8, 0.038643124163150785), (9, 0.038292179226875306), (10, 0.037774369597435), (11, 0.037304241716861725)]\n",
            "INFO flwr 2023-11-12 13:36:22,112 | app.py:226 | app_fit: metrics_distributed_fit {}\n",
            "INFO:flwr:app_fit: metrics_distributed_fit {}\n",
            "INFO flwr 2023-11-12 13:36:22,117 | app.py:227 | app_fit: metrics_distributed {'accuracy': [(1, 0.418), (2, 0.4835), (3, 0.5), (4, 0.5345), (5, 0.554), (6, 0.559), (7, 0.572), (8, 0.577), (9, 0.586), (10, 0.5835), (11, 0.5884999999999999)]}\n",
            "INFO:flwr:app_fit: metrics_distributed {'accuracy': [(1, 0.418), (2, 0.4835), (3, 0.5), (4, 0.5345), (5, 0.554), (6, 0.559), (7, 0.572), (8, 0.577), (9, 0.586), (10, 0.5835), (11, 0.5884999999999999)]}\n",
            "INFO flwr 2023-11-12 13:36:22,119 | app.py:228 | app_fit: losses_centralized []\n",
            "INFO:flwr:app_fit: losses_centralized []\n",
            "INFO flwr 2023-11-12 13:36:22,125 | app.py:229 | app_fit: metrics_centralized {}\n",
            "INFO:flwr:app_fit: metrics_centralized {}\n"
          ]
        },
        {
          "output_type": "execute_result",
          "data": {
            "text/plain": [
              "History (loss, distributed):\n",
              "\tround 1: 0.05155415552854538\n",
              "\tround 2: 0.04607659864425659\n",
              "\tround 3: 0.04418485963344574\n",
              "\tround 4: 0.04249339574575424\n",
              "\tround 5: 0.04083650803565979\n",
              "\tround 6: 0.039701302975416186\n",
              "\tround 7: 0.039136862814426424\n",
              "\tround 8: 0.038643124163150785\n",
              "\tround 9: 0.038292179226875306\n",
              "\tround 10: 0.037774369597435\n",
              "\tround 11: 0.037304241716861725\n",
              "History (metrics, distributed, evaluate):\n",
              "{'accuracy': [(1, 0.418), (2, 0.4835), (3, 0.5), (4, 0.5345), (5, 0.554), (6, 0.559), (7, 0.572), (8, 0.577), (9, 0.586), (10, 0.5835), (11, 0.5884999999999999)]}"
            ]
          },
          "metadata": {},
          "execution_count": 15
        }
      ],
      "source": [
        "# create a strategy\n",
        "strategy = AttackSimulationStrategy(fraction_fit=1.0, fraction_evaluate=0.75, min_fit_clients=4,\n",
        "    min_evaluate_clients=4, min_available_clients=4, perturbationVector=\"InverseStd\", adversaryKnowledge=\"agr-only\",\n",
        "    evaluate_metrics_aggregation_fn=weighted_average,) # <-- pass the metric aggregation function. This function will be called\n",
        "                                                       # in every federated learning round for evaluation (it aggregates the\n",
        "                                                       # client-side evaluation metrics in the server)\n",
        "\n",
        "# start simulation\n",
        "fl.simulation.start_simulation(\n",
        "    client_fn=client_fn, # out factory function\n",
        "    num_clients=4, # number of clients\n",
        "    config=fl.server.ServerConfig(num_rounds=11), # number of federated learning rounds\n",
        "    strategy=strategy, # our attack simulation strategy\n",
        "    client_resources=None,\n",
        ")"
      ],
      "id": "1befdde0"
    },
    {
      "cell_type": "code",
      "source": [
        "centralizedModel = LeNet5(10)\n",
        "train(centralizedModel, trainloaders[0], epochs=11)\n",
        "\n",
        "print(test(centralizedModel, testloader))"
      ],
      "metadata": {
        "colab": {
          "base_uri": "https://localhost:8080/"
        },
        "id": "xrCJNRyaW0Pu",
        "outputId": "b3a3e4cb-569d-4102-d0d0-1d59f73b1665"
      },
      "id": "xrCJNRyaW0Pu",
      "execution_count": 87,
      "outputs": [
        {
          "output_type": "stream",
          "name": "stdout",
          "text": [
            "(0.06690671923160553, 0.4899)\n"
          ]
        }
      ]
    },
    {
      "cell_type": "code",
      "source": [
        "print(test(federatedModel, testloader))"
      ],
      "metadata": {
        "colab": {
          "base_uri": "https://localhost:8080/"
        },
        "id": "ENAkqHxkv-kT",
        "outputId": "c2726531-434e-4c53-8229-f183997a9808"
      },
      "id": "ENAkqHxkv-kT",
      "execution_count": 17,
      "outputs": [
        {
          "output_type": "stream",
          "name": "stdout",
          "text": [
            "(0.03532284952402115, 0.6103)\n"
          ]
        }
      ]
    },
    {
      "cell_type": "code",
      "source": [
        "class AttackDataset(Dataset):\n",
        "    def __init__(self):\n",
        "        self.data = []\n",
        "\n",
        "    def __len__(self):\n",
        "        return len(self.data)\n",
        "\n",
        "    def __getitem__(self, idx):\n",
        "        return self.data[idx]\n",
        "\n",
        "    def __insertitem___(self, item):\n",
        "        self.data.append(item)"
      ],
      "metadata": {
        "id": "kyAcZl6u3HkJ"
      },
      "id": "kyAcZl6u3HkJ",
      "execution_count": 18,
      "outputs": []
    },
    {
      "cell_type": "code",
      "source": [
        "### Membership Inference Attack###\n",
        "\n",
        "# create and train shadow models\n",
        "shadowModelsTotal = 3\n",
        "shift = 4\n",
        "\n",
        "shadowModels = [LeNet5(10) for _ in range(shadowModelsTotal)]\n",
        "for idx in range(shadowModelsTotal):\n",
        "    for epochidx in range(11):\n",
        "        train(shadowModels[idx], trainloaders[shift+idx], epochs=1)\n",
        "        train(shadowModels[idx], trainloaders[shift+idx+1], epochs=1)\n",
        "        train(shadowModels[idx], trainloaders[shift+idx+2], epochs=1)\n",
        "        train(shadowModels[idx], trainloaders[shift+idx+3], epochs=1)"
      ],
      "metadata": {
        "id": "Lc8HRgk7uKt9"
      },
      "id": "Lc8HRgk7uKt9",
      "execution_count": 20,
      "outputs": []
    },
    {
      "cell_type": "code",
      "source": [
        "for idx in range(shadowModelsTotal):\n",
        "    print(test(shadowModels[idx], testloader))"
      ],
      "metadata": {
        "colab": {
          "base_uri": "https://localhost:8080/"
        },
        "id": "cVOcCMNge8mi",
        "outputId": "400d3c14-e64a-43aa-c4f4-f6c978489a9d"
      },
      "id": "cVOcCMNge8mi",
      "execution_count": 21,
      "outputs": [
        {
          "output_type": "stream",
          "name": "stdout",
          "text": [
            "(0.05936938573718071, 0.587)\n",
            "(0.06004541683197021, 0.5916)\n",
            "(0.06423517335653305, 0.5803)\n"
          ]
        }
      ]
    },
    {
      "cell_type": "code",
      "source": [
        "# construct attack model's training set\n",
        "import random\n",
        "\n",
        "attackTrainingSet = AttackDataset()\n",
        "for idx in range(shadowModelsTotal):\n",
        "  for images, labels in trainloaders[4+idx]:\n",
        "    logits, probas = shadowModels[idx](images)\n",
        "    for dataidx in range(labels.size()[0]):\n",
        "      attackTrainingSet.__insertitem___((torch.cat((probas[dataidx], torch.as_tensor([labels[dataidx]]))).detach(), 1)) # 1 is in\n",
        "  for images, labels in trainloaders[idx]:\n",
        "    logits, probas = shadowModels[idx](images)\n",
        "    for dataidx in range(labels.size()[0]):\n",
        "      attackTrainingSet.__insertitem___((torch.cat((probas[dataidx], torch.as_tensor([labels[dataidx]]))).detach(), 0)) # 0 is out\n",
        "random.shuffle(attackTrainingSet.data)\n",
        "\n",
        "ds_train = Subset(attackTrainingSet, [i for i in range(attackTrainingSet.__len__())])\n",
        "attackSet = DataLoader(ds_train, batch_size=BATCH_SIZE, shuffle=True)"
      ],
      "metadata": {
        "id": "x-hUuvKa-NUz"
      },
      "id": "x-hUuvKa-NUz",
      "execution_count": 23,
      "outputs": []
    },
    {
      "cell_type": "code",
      "source": [
        "# create and train the attack model\n",
        "attackModel = AttackMLP(11)\n",
        "train(attackModel, attackSet, epochs=30)"
      ],
      "metadata": {
        "id": "VzWoZYJZwSAB"
      },
      "id": "VzWoZYJZwSAB",
      "execution_count": 44,
      "outputs": []
    },
    {
      "cell_type": "code",
      "source": [
        "# construct attack model's evaluation set\n",
        "attackEvaluationSet = AttackDataset()\n",
        "for idx in range(1):\n",
        "  for images, labels in testloader:\n",
        "    logits, probas = federatedModel(images)\n",
        "    for dataidx in range(labels.size()[0]):\n",
        "      attackEvaluationSet.__insertitem___((torch.cat((probas[dataidx], torch.as_tensor([labels[dataidx]]))), 0)) # 1 is in - 0 is out\n",
        "for idx in range(1):\n",
        "  for images, labels in trainloaders[idx]:\n",
        "    logits, probas = federatedModel(images)\n",
        "    for dataidx in range(labels.size()[0]):\n",
        "      attackEvaluationSet.__insertitem___((torch.cat((probas[dataidx], torch.as_tensor([labels[dataidx]]))), 1)) # 1 is in - 0 is out\n",
        "\n",
        "ds_eval = Subset(attackEvaluationSet, [i for i in range(attackEvaluationSet.__len__())])\n",
        "attackEvalSet = DataLoader(ds_eval, batch_size=1)"
      ],
      "metadata": {
        "id": "ktxF9P678Ipe"
      },
      "id": "ktxF9P678Ipe",
      "execution_count": 46,
      "outputs": []
    },
    {
      "cell_type": "code",
      "source": [
        "# evaluation\n",
        "criterion = torch.nn.CrossEntropyLoss()\n",
        "loss = 0.0\n",
        "correct = [0 for _ in range(10)]\n",
        "total = [0 for _ in range(10)]\n",
        "attackModel.eval()\n",
        "with torch.no_grad():\n",
        "    for images, labels in attackEvalSet:\n",
        "        images, labels = images.to(DEVICE), labels.to(DEVICE)\n",
        "        outputs, probas = attackModel(images)\n",
        "        loss += criterion(outputs, labels).item()\n",
        "        _, predicted = torch.max(probas.data, 1)\n",
        "        total[int(images[0][10].item())] += labels.size(0)\n",
        "        correct[int(images[0][10].item())] += (predicted == labels).sum().item()\n",
        "loss /= len(attackEvalSet.dataset)\n",
        "print(sum(correct) / sum(total))\n",
        "for i in range(10):\n",
        "  print(\"class:\", i, \"=\", correct[i]/total[i])"
      ],
      "metadata": {
        "colab": {
          "base_uri": "https://localhost:8080/"
        },
        "id": "KR5j4S0m7bZI",
        "outputId": "25bd167e-8447-4527-8a39-5bd92692f8ec"
      },
      "id": "KR5j4S0m7bZI",
      "execution_count": 47,
      "outputs": [
        {
          "output_type": "stream",
          "name": "stdout",
          "text": [
            "0.6047586206896551\n",
            "class: 0 = 0.5203527815468114\n",
            "class: 1 = 0.5821205821205822\n",
            "class: 2 = 0.6923615977575333\n",
            "class: 3 = 0.6789510985116939\n",
            "class: 4 = 0.6371191135734072\n",
            "class: 5 = 0.6592950932964755\n",
            "class: 6 = 0.568135593220339\n",
            "class: 7 = 0.5698704839809134\n",
            "class: 8 = 0.5762132604237867\n",
            "class: 9 = 0.5693581780538303\n"
          ]
        }
      ]
    }
  ],
  "metadata": {
    "colab": {
      "provenance": []
    },
    "kernelspec": {
      "display_name": "Python 3",
      "name": "python3"
    },
    "language_info": {
      "codemirror_mode": {
        "name": "ipython",
        "version": 3
      },
      "file_extension": ".py",
      "mimetype": "text/x-python",
      "name": "python",
      "nbconvert_exporter": "python",
      "pygments_lexer": "ipython3",
      "version": "3.9.13"
    }
  },
  "nbformat": 4,
  "nbformat_minor": 5
}