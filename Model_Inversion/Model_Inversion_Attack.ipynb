{
  "cells": [
    {
      "cell_type": "markdown",
      "metadata": {
        "id": "a084d0fc"
      },
      "source": [
        "# Federated Learning Model Poisoning Attack Simulation"
      ],
      "id": "a084d0fc"
    },
    {
      "cell_type": "code",
      "source": [
        "!git clone https://github.com/JonasGeiping/invertinggradients.git"
      ],
      "metadata": {
        "colab": {
          "base_uri": "https://localhost:8080/"
        },
        "id": "G5gZEaqdRG5D",
        "outputId": "e42bf216-07a7-49b1-a518-77df934aac78"
      },
      "id": "G5gZEaqdRG5D",
      "execution_count": 22,
      "outputs": [
        {
          "output_type": "stream",
          "name": "stdout",
          "text": [
            "fatal: destination path 'invertinggradients' already exists and is not an empty directory.\n"
          ]
        }
      ]
    },
    {
      "cell_type": "code",
      "source": [
        "import torch\n",
        "import numpy as np\n",
        "import matplotlib.pyplot as plt\n",
        "from collections import defaultdict\n",
        "from PIL import Image\n",
        "from torchvision.utils import save_image\n",
        "import sys\n",
        "sys.path.append('/content/invertinggradients')\n",
        "import inversefed"
      ],
      "metadata": {
        "id": "EeqsaDTpRxga"
      },
      "id": "EeqsaDTpRxga",
      "execution_count": 23,
      "outputs": []
    },
    {
      "cell_type": "code",
      "execution_count": 24,
      "metadata": {
        "id": "c41d4476"
      },
      "outputs": [],
      "source": [
        "!pip install -q flwr[simulation] torch torchvision matplotlib\n",
        "\n",
        "from collections import OrderedDict\n",
        "from typing import List, Tuple, Optional, Callable\n",
        "from matplotlib import pyplot as plt\n",
        "import certifi\n",
        "import ssl\n",
        "import numpy as np\n",
        "import torch\n",
        "import torch.nn as nn\n",
        "import torch.nn.functional as F\n",
        "import torchvision\n",
        "import torchvision.transforms as transforms\n",
        "from torch.utils.data import DataLoader, random_split\n",
        "from torchvision.datasets import CIFAR10\n",
        "import flwr as fl\n",
        "from flwr.common import Metrics\n",
        "import os\n",
        "\n",
        "os.environ[\"KMP_DUPLICATE_LIB_OK\"]=\"TRUE\" # fixed something with matplotlib killing the kernel\n",
        "ssl._create_default_https_context = ssl._create_unverified_context  # fixed something with the ssl certificate of the dataset\n",
        "DEVICE = torch.device(\"cpu\")  # \"cpu\" -> train in cpu | \"cuda\" -> train in gpu"
      ],
      "id": "c41d4476"
    },
    {
      "cell_type": "code",
      "execution_count": 25,
      "metadata": {
        "id": "225fa440"
      },
      "outputs": [],
      "source": [
        "from logging import WARNING # we need those imports to implement the strategy class\n",
        "from typing import Callable, Dict, List, Optional, Tuple, Union\n",
        "\n",
        "from flwr.common import (\n",
        "    EvaluateIns,\n",
        "    EvaluateRes,\n",
        "    FitIns,\n",
        "    FitRes,\n",
        "    MetricsAggregationFn,\n",
        "    NDArrays,\n",
        "    Parameters,\n",
        "    Scalar,\n",
        "    ndarrays_to_parameters,\n",
        "    parameters_to_ndarrays,\n",
        ")\n",
        "from flwr.common.logger import log\n",
        "from flwr.server.client_manager import ClientManager\n",
        "from flwr.server.client_proxy import ClientProxy\n",
        "\n",
        "from flwr.server.strategy.aggregate import aggregate, weighted_loss_avg, aggregate_krum\n",
        "from flwr.server.strategy.strategy import Strategy"
      ],
      "id": "225fa440"
    },
    {
      "cell_type": "code",
      "execution_count": 26,
      "metadata": {
        "id": "e7a839c4"
      },
      "outputs": [],
      "source": [
        "CLASSES = (\"plane\", \"car\", \"bird\", \"cat\", \"deer\", \"dog\", \"frog\", \"horse\", \"ship\", \"truck\") # classes of the example dataset\n",
        "\n",
        "NUM_CLIENTS = 10 # this is the number of devices participating in the federated learning\n",
        "\n",
        "BATCH_SIZE = 32 # this is the size of a mini-batch for the training of a CNN using SGD"
      ],
      "id": "e7a839c4"
    },
    {
      "cell_type": "code",
      "execution_count": 27,
      "metadata": {
        "colab": {
          "base_uri": "https://localhost:8080/"
        },
        "id": "fe1dcda9",
        "outputId": "43204cc8-f3f0-4929-b345-6d9bb1ba2e17"
      },
      "outputs": [
        {
          "output_type": "stream",
          "name": "stdout",
          "text": [
            "Files already downloaded and verified\n",
            "Files already downloaded and verified\n"
          ]
        }
      ],
      "source": [
        "def load_datasets(): # download and transform cifar-10\n",
        "    transform = transforms.Compose(\n",
        "        [transforms.ToTensor(), transforms.Normalize((0.5, 0.5, 0.5), (0.5, 0.5, 0.5))]\n",
        "    )\n",
        "    trainset = CIFAR10(\"./dataset\", train=True, download=True, transform=transform)\n",
        "    testset = CIFAR10(\"./dataset\", train=False, download=True, transform=transform)\n",
        "\n",
        "    # split training set into 10 partitions to simulate the individual dataset\n",
        "    partition_size = len(trainset) // NUM_CLIENTS\n",
        "    lengths = [partition_size] * NUM_CLIENTS\n",
        "    datasets = random_split(trainset, lengths, torch.Generator().manual_seed(42))\n",
        "\n",
        "    # split each partition into train/val and create DataLoader\n",
        "    trainloaders = []\n",
        "    valloaders = []\n",
        "    for ds in datasets:\n",
        "        len_val = len(ds) // 10  # 10% validation set\n",
        "        len_train = len(ds) - len_val\n",
        "        lengths = [len_train, len_val]\n",
        "        ds_train, ds_val = random_split(ds, lengths, torch.Generator().manual_seed(42))\n",
        "        trainloaders.append(DataLoader(ds_train, batch_size=BATCH_SIZE, shuffle=True))\n",
        "        valloaders.append(DataLoader(ds_val, batch_size=BATCH_SIZE))\n",
        "    testloader = DataLoader(testset, batch_size=BATCH_SIZE)\n",
        "    return trainloaders, valloaders, testloader\n",
        "\n",
        "trainloaders, valloaders, testloader = load_datasets() # load the datasets"
      ],
      "id": "fe1dcda9"
    },
    {
      "cell_type": "code",
      "execution_count": 28,
      "metadata": {
        "id": "876b7b4b"
      },
      "outputs": [],
      "source": [
        "class LeNet5(nn.Module):\n",
        "    def __init__(self, num_classes, grayscale=False):\n",
        "        super(LeNet5, self).__init__()\n",
        "\n",
        "        self.grayscale = grayscale\n",
        "        self.num_classes = num_classes\n",
        "\n",
        "        if self.grayscale:\n",
        "            in_channels = 1\n",
        "        else:\n",
        "            in_channels = 3\n",
        "\n",
        "        self.features = nn.Sequential(\n",
        "\n",
        "            nn.Conv2d(in_channels, 6*in_channels, kernel_size=5),\n",
        "            nn.Tanh(),\n",
        "            nn.MaxPool2d(kernel_size=2),\n",
        "            nn.Conv2d(6*in_channels, 16*in_channels, kernel_size=5),\n",
        "            nn.Tanh(),\n",
        "            nn.MaxPool2d(kernel_size=2)\n",
        "        )\n",
        "\n",
        "        self.classifier = nn.Sequential(\n",
        "            nn.Linear(16*5*5*in_channels, 120*in_channels),\n",
        "            nn.Tanh(),\n",
        "            nn.Linear(120*in_channels, 84*in_channels),\n",
        "            nn.Tanh(),\n",
        "            nn.Linear(84*in_channels, num_classes),\n",
        "        )\n",
        "\n",
        "\n",
        "    def forward(self, x):\n",
        "        x = self.features(x)\n",
        "        x = torch.flatten(x, 1)\n",
        "        logits = self.classifier(x)\n",
        "        probas = F.softmax(logits, dim=1)\n",
        "        return logits"
      ],
      "id": "876b7b4b"
    },
    {
      "cell_type": "code",
      "execution_count": 29,
      "metadata": {
        "id": "2d8d6556"
      },
      "outputs": [],
      "source": [
        "def train(net, trainloader, epochs: int, verbose=False): # we need a train and a test function that our clients will be using\n",
        "    criterion = torch.nn.CrossEntropyLoss()\n",
        "    optimizer = torch.optim.Adam(net.parameters())\n",
        "    net.train()\n",
        "    for epoch in range(epochs):\n",
        "\n",
        "        correct, total, epoch_loss = 0, 0, 0.0\n",
        "        for images, labels in trainloader:\n",
        "            images, labels = images.to(DEVICE), labels.to(DEVICE)\n",
        "            optimizer.zero_grad() # reset the gradients\n",
        "            outputs = net(images) # do the forward pass\n",
        "            loss = criterion(outputs, labels) # calculate the loss function\n",
        "            loss.backward() # calculate the gradients of the loss function\n",
        "            optimizer.step() # do one stochastic gradient descent step\n",
        "            epoch_loss += loss\n",
        "            total += labels.size(0)\n",
        "            correct += (torch.max(outputs.data, 1)[1] == labels).sum().item()\n",
        "        epoch_loss /= len(trainloader.dataset)\n",
        "        epoch_acc = correct / total\n",
        "\n",
        "        if verbose: # log information\n",
        "            print(f\"Epoch {epoch+1}: train loss {epoch_loss}, accuracy {epoch_acc}\")\n",
        "\n",
        "\n",
        "def test(net, testloader):\n",
        "    criterion = torch.nn.CrossEntropyLoss()\n",
        "    correct, total, loss = 0, 0, 0.0\n",
        "    net.eval()\n",
        "    with torch.no_grad():\n",
        "        for images, labels in testloader:\n",
        "            images, labels = images.to(DEVICE), labels.to(DEVICE)\n",
        "            outputs = net(images)\n",
        "            probas = F.softmax(outputs, dim=1)\n",
        "            loss += criterion(outputs, labels).item()\n",
        "            _, predicted = torch.max(probas.data, 1)\n",
        "            total += labels.size(0)\n",
        "            correct += (predicted == labels).sum().item()\n",
        "    loss /= len(testloader.dataset)\n",
        "    accuracy = correct / total\n",
        "    return loss, accuracy"
      ],
      "id": "2d8d6556"
    },
    {
      "cell_type": "code",
      "execution_count": 30,
      "metadata": {
        "id": "88a324a2"
      },
      "outputs": [],
      "source": [
        "def get_parameters(net) -> List[np.ndarray]: # we need these two function because this way flower knows how\n",
        "    return [val.cpu().numpy() for _, val in net.state_dict().items()] # to serialize/deserialize data\n",
        "\n",
        "def set_parameters(net, parameters: List[np.ndarray]):\n",
        "    params_dict = zip(net.state_dict().keys(), parameters)\n",
        "    state_dict = OrderedDict({k: torch.Tensor(v) for k, v in params_dict})\n",
        "    net.load_state_dict(state_dict, strict=True)"
      ],
      "id": "88a324a2"
    },
    {
      "cell_type": "code",
      "execution_count": 31,
      "metadata": {
        "id": "9a3bd9fc"
      },
      "outputs": [],
      "source": [
        "class FlowerClient(fl.client.NumPyClient): # here we define the FlowerClient. We have to implement only the following 3 methods\n",
        "    def __init__(self, net, trainloader, valloader): # of course we can customize these methods as we like\n",
        "        self.net = net                            # we can add extra member variables as well\n",
        "        self.trainloader = trainloader\n",
        "        self.valloader = valloader\n",
        "\n",
        "    def get_parameters(self, config):\n",
        "        return get_parameters(self.net)\n",
        "\n",
        "    def fit(self, parameters, config):\n",
        "        set_parameters(self.net, parameters)\n",
        "        train(self.net, self.trainloader, epochs=1)\n",
        "        return get_parameters(self.net), len(self.trainloader), {}\n",
        "\n",
        "    def evaluate(self, parameters, config):\n",
        "        set_parameters(self.net, parameters)\n",
        "        loss, accuracy = test(self.net, self.valloader)\n",
        "        return float(loss), len(self.valloader), {\"accuracy\": float(accuracy)}"
      ],
      "id": "9a3bd9fc"
    },
    {
      "cell_type": "code",
      "execution_count": 32,
      "metadata": {
        "id": "0acd8c0d"
      },
      "outputs": [],
      "source": [
        "class BenignFlowerClient(FlowerClient):\n",
        "    def __init__(self, net, trainloader, valloader):\n",
        "        super().__init__(net, trainloader, valloader)\n",
        "\n",
        "    def fit(self, parameters, config):\n",
        "        #print(\"Benign Client Got Selected\", flush=True)\n",
        "        parameters, num_examples, _ = super().fit(parameters, config)\n",
        "        return parameters, num_examples, {\"intention\": \"BENIGN\"}\n",
        "\n",
        "class MaliciousFlowerClient(FlowerClient):\n",
        "    def __init__(self, net, trainloader, valloader):\n",
        "        super().__init__(net, trainloader, valloader)\n",
        "\n",
        "    def fit(self, parameters, config):\n",
        "        #print(\"Malicious Client Got Selected\", flush=True)\n",
        "        parameters, num_examples, _ = super().fit(parameters, config)\n",
        "        return parameters, num_examples, {\"intention\": \"MALICIOUS\"}"
      ],
      "id": "0acd8c0d"
    },
    {
      "cell_type": "code",
      "execution_count": 33,
      "metadata": {
        "id": "53436036"
      },
      "outputs": [],
      "source": [
        "def client_fn(cid: str) -> FlowerClient: # this is a factory function (factory desing pattern)\n",
        "    net = LeNet5(10).to(DEVICE) # flower calls this function to create FlowerClients on demand (this way it uses less memory)\n",
        "    trainloader = trainloaders[int(cid)]\n",
        "    valloader = valloaders[int(cid)]\n",
        "\n",
        "    if int(cid) <= NUM_CLIENTS * 0.2:    # 20 - 80 --> malicious - benign\n",
        "        return MaliciousFlowerClient(net, trainloader, valloader)\n",
        "    else:\n",
        "        return BenignFlowerClient(net, trainloader, valloader)"
      ],
      "id": "53436036"
    },
    {
      "cell_type": "code",
      "execution_count": 34,
      "metadata": {
        "id": "70f89874"
      },
      "outputs": [],
      "source": [
        "def weighted_average(metrics: List[Tuple[int, Metrics]]) -> Metrics: # we pass this function as an argument to the Strategy\n",
        "    # calculate accuracy\n",
        "    accuracies = [num_examples * m[\"accuracy\"] for num_examples, m in metrics]\n",
        "    examples = [num_examples for num_examples, _ in metrics]\n",
        "\n",
        "    # return it as a dictionary\n",
        "    return {\"accuracy\": sum(accuracies) / sum(examples)}"
      ],
      "id": "70f89874"
    },
    {
      "cell_type": "code",
      "source": [
        "setup = inversefed.utils.system_startup()\n",
        "dm = torch.as_tensor(inversefed.consts.cifar10_mean, **setup)[:, None, None]\n",
        "ds = torch.as_tensor(inversefed.consts.cifar10_std, **setup)[:, None, None]\n",
        "def plot(tensor):\n",
        "    tensor = tensor.clone().detach()\n",
        "    tensor.mul_(ds).add_(dm).clamp_(0, 1)\n",
        "    if tensor.shape[0] == 1:\n",
        "        return plt.imshow(tensor[0].permute(1, 2, 0).cpu());\n",
        "    else:\n",
        "        fig, axes = plt.subplots(1, tensor.shape[0], figsize=(12, tensor.shape[0]*12))\n",
        "        for i, im in enumerate(tensor):\n",
        "            axes[i].imshow(im.permute(1, 2, 0).cpu());"
      ],
      "metadata": {
        "colab": {
          "base_uri": "https://localhost:8080/"
        },
        "id": "o_jaxs_ZaE0P",
        "outputId": "2b67e564-cdff-43df-9860-547289e346e8"
      },
      "id": "o_jaxs_ZaE0P",
      "execution_count": 35,
      "outputs": [
        {
          "output_type": "stream",
          "name": "stdout",
          "text": [
            "Currently evaluating -------------------------------:\n",
            "Thursday, 09. November 2023 10:04AM\n",
            "CPUs: 1, GPUs: 0 on aa3c52d35dc5.\n"
          ]
        }
      ]
    },
    {
      "cell_type": "code",
      "source": [
        "ground_truth = []\n",
        "ground_truth.append(trainloaders[0].dataset[0][0])\n",
        "ground_truth.append(trainloaders[0].dataset[5][0])\n",
        "ground_truth.append(trainloaders[0].dataset[12][0])\n",
        "ground_truth = torch.stack(ground_truth)\n",
        "plot(ground_truth)"
      ],
      "metadata": {
        "colab": {
          "base_uri": "https://localhost:8080/",
          "height": 335
        },
        "id": "9zyYW9BcPaU0",
        "outputId": "bca9591b-414f-404e-e28d-be785b6a4174"
      },
      "id": "9zyYW9BcPaU0",
      "execution_count": 36,
      "outputs": [
        {
          "output_type": "display_data",
          "data": {
            "text/plain": [
              "<Figure size 1200x3600 with 3 Axes>"
            ],
            "image/png": "[encoded data removed]"
          },
          "metadata": {}
        }
      ]
    },
    {
      "cell_type": "code",
      "execution_count": 37,
      "metadata": {
        "id": "0a7aa153"
      },
      "outputs": [],
      "source": [
        "class AttackSimulationStrategy(fl.server.strategy.FedAvg): # we inherit from FedAvg strategy and change only what we need\n",
        "    def __init__(self, *, fraction_fit: float = 1.0, fraction_evaluate: float = 1.0, min_fit_clients: int = 2,\n",
        "        min_evaluate_clients: int = 2, min_available_clients: int = 2, num_malicious_clients: int = 2,\n",
        "        num_clients_to_keep: int = 0, evaluate_fn: Optional[Callable[[int, NDArrays, Dict[str, Scalar]],\n",
        "        Optional[Tuple[float, Dict[str, Scalar]]],]] = None, on_fit_config_fn: Optional[Callable[[int], Dict[str, Scalar]]] = None,\n",
        "        on_evaluate_config_fn: Optional[Callable[[int], Dict[str, Scalar]]] = None, accept_failures: bool = True,\n",
        "        initial_parameters: Optional[Parameters] = None, fit_metrics_aggregation_fn: Optional[MetricsAggregationFn] = None,\n",
        "        evaluate_metrics_aggregation_fn: Optional[MetricsAggregationFn] = None,\n",
        "        perturbationVector: str, adversaryKnowledge: str\n",
        "    ) -> None:\n",
        "        super().__init__(\n",
        "            fraction_fit=fraction_fit, fraction_evaluate=fraction_evaluate, min_fit_clients=min_fit_clients,\n",
        "            min_evaluate_clients=min_evaluate_clients, min_available_clients=min_available_clients, evaluate_fn=evaluate_fn,\n",
        "            on_fit_config_fn=on_fit_config_fn, on_evaluate_config_fn=on_evaluate_config_fn, accept_failures=accept_failures,\n",
        "            initial_parameters=initial_parameters, fit_metrics_aggregation_fn=fit_metrics_aggregation_fn,\n",
        "            evaluate_metrics_aggregation_fn=evaluate_metrics_aggregation_fn,\n",
        "        )\n",
        "        self.num_malicious_clients = num_malicious_clients\n",
        "        self.num_clients_to_keep = num_clients_to_keep\n",
        "        self.perturbationVector = perturbationVector\n",
        "        self.adversaryKnowledge = adversaryKnowledge\n",
        "        self.model_parameters = initial_parameters\n",
        "\n",
        "    def __repr__(self) -> str:\n",
        "        rep = f\"AttackSimulationStrategy(accept_failures={self.accept_failures})\"\n",
        "        return rep\n",
        "\n",
        "    def aggregate_fit(self, server_round: int, results: List[Tuple[ClientProxy, FitRes]],\n",
        "        failures: List[Union[Tuple[ClientProxy, FitRes], BaseException]],) -> Tuple[Optional[Parameters], Dict[str, Scalar]]:\n",
        "\n",
        "        if not results: # boilerplate code to handle exceptions\n",
        "            return None, {}\n",
        "        if not self.accept_failures and failures:\n",
        "            return None, {}\n",
        "\n",
        "        # convert results\n",
        "        total_weights_results = [(parameters_to_ndarrays(fit_res.parameters), fit_res.num_examples) for _, fit_res in results]\n",
        "\n",
        "        ########################################################\n",
        "        ########### SIMULATE MODEL INVERSION ATTACK ############\n",
        "        ########################################################\n",
        "        if server_round == 2:\n",
        "            modelo = LeNet5(10).to(DEVICE)\n",
        "            set_parameters(modelo, parameters_to_ndarrays(self.model_parameters))\n",
        "            criterion = torch.nn.CrossEntropyLoss()\n",
        "            images = []\n",
        "            image = trainloaders[0].dataset[0][0]\n",
        "            images.append(image)\n",
        "            image = trainloaders[0].dataset[5][0]\n",
        "            images.append(image)\n",
        "            image = trainloaders[0].dataset[12][0]\n",
        "            images.append(image)\n",
        "            images = torch.stack(images)\n",
        "            label = torch.as_tensor((trainloaders[0].dataset[0][1],))\n",
        "            labels = []\n",
        "            labels.append(label)\n",
        "            label = torch.as_tensor((trainloaders[0].dataset[5][1],))\n",
        "            labels.append(label)\n",
        "            label = torch.as_tensor((trainloaders[0].dataset[12][1],))\n",
        "            labels.append(label)\n",
        "            labels = torch.cat(labels)\n",
        "            outputs = modelo(images) # do the forward pass\n",
        "            modelo.zero_grad()\n",
        "            target_loss = criterion(outputs, labels) # calculate the loss function\n",
        "            input_gradient = torch.autograd.grad(target_loss, modelo.parameters())\n",
        "            input_gradient = [grad.detach() for grad in input_gradient]\n",
        "            config = dict(signed=True, boxed=True, cost_fn='sim', indices='def', weights='equal', lr=0.1, optim='adam', restarts=1, max_iterations=4000,\n",
        "                          total_variation=1e-6, init='randn', filter='none', lr_decay=True, scoring_choice='loss')\n",
        "            rec_machine = inversefed.GradientReconstructor(modelo, (dm, ds), config, num_images=3)\n",
        "            output, stats = rec_machine.reconstruct(input_gradient, labels, img_shape=(3, 32, 32))\n",
        "\n",
        "            test_mse = (output.detach() - ground_truth).pow(2).mean()\n",
        "            feat_mse = (modelo(output.detach())- modelo(ground_truth)).pow(2).mean()\n",
        "            test_psnr = inversefed.metrics.psnr(output, ground_truth, factor=1/ds)\n",
        "\n",
        "            plot(output)\n",
        "            plt.title(f\"Rec. loss: {stats['opt']:2.4f} | MSE: {test_mse:2.4f} \"f\"| PSNR: {test_psnr:4.2f} | FMSE: {feat_mse:2.4e} |\");\n",
        "        ########################################################\n",
        "        ########################################################\n",
        "        ########################################################\n",
        "\n",
        "        # calculate AGR\n",
        "        parameters_aggregated = ndarrays_to_parameters(aggregate_krum( # this thing here is for krum-AGR\n",
        "            total_weights_results, self.num_malicious_clients, self.num_clients_to_keep))\n",
        "\n",
        "        # boilerplate code if aggregation metrics are provided\n",
        "        metrics_aggregated = {}\n",
        "        if self.fit_metrics_aggregation_fn:\n",
        "            fit_metrics = [(res.num_examples, res.metrics) for _, res in results]\n",
        "            metrics_aggregated = self.fit_metrics_aggregation_fn(fit_metrics)\n",
        "        elif server_round == 1:  # Only log this warning once\n",
        "            log(WARNING, \"No fit_metrics_aggregation_fn provided\")\n",
        "        self.model_parameters = parameters_aggregated\n",
        "\n",
        "        return parameters_aggregated, metrics_aggregated\n",
        "\n"
      ],
      "id": "0a7aa153"
    },
    {
      "cell_type": "code",
      "execution_count": 38,
      "metadata": {
        "id": "1befdde0",
        "outputId": "dc3a59fb-de27-42b8-af27-43af4af2608c",
        "colab": {
          "base_uri": "https://localhost:8080/",
          "height": 1000
        }
      },
      "outputs": [
        {
          "output_type": "stream",
          "name": "stderr",
          "text": [
            "INFO flwr 2023-11-09 10:04:44,226 | app.py:175 | Starting Flower simulation, config: ServerConfig(num_rounds=5, round_timeout=None)\n",
            "INFO:flwr:Starting Flower simulation, config: ServerConfig(num_rounds=5, round_timeout=None)\n",
            "2023-11-09 10:04:50,592\tINFO worker.py:1621 -- Started a local Ray instance.\n",
            "INFO flwr 2023-11-09 10:04:53,503 | app.py:210 | Flower VCE: Ray initialized with resources: {'CPU': 2.0, 'memory': 7820424807.0, 'object_store_memory': 3910212403.0, 'node:__internal_head__': 1.0, 'node:172.28.0.12': 1.0}\n",
            "INFO:flwr:Flower VCE: Ray initialized with resources: {'CPU': 2.0, 'memory': 7820424807.0, 'object_store_memory': 3910212403.0, 'node:__internal_head__': 1.0, 'node:172.28.0.12': 1.0}\n",
            "INFO flwr 2023-11-09 10:04:53,511 | app.py:218 | No `client_resources` specified. Using minimal resources for clients.\n",
            "INFO:flwr:No `client_resources` specified. Using minimal resources for clients.\n",
            "INFO flwr 2023-11-09 10:04:53,516 | app.py:224 | Flower VCE: Resources for each Virtual Client: {'num_cpus': 1, 'num_gpus': 0.0}\n",
            "INFO:flwr:Flower VCE: Resources for each Virtual Client: {'num_cpus': 1, 'num_gpus': 0.0}\n",
            "INFO flwr 2023-11-09 10:04:53,567 | app.py:270 | Flower VCE: Creating VirtualClientEngineActorPool with 2 actors\n",
            "INFO:flwr:Flower VCE: Creating VirtualClientEngineActorPool with 2 actors\n",
            "INFO flwr 2023-11-09 10:04:53,576 | server.py:89 | Initializing global parameters\n",
            "INFO:flwr:Initializing global parameters\n",
            "INFO flwr 2023-11-09 10:04:53,584 | server.py:276 | Requesting initial parameters from one random client\n",
            "INFO:flwr:Requesting initial parameters from one random client\n",
            "\u001b[2m\u001b[36m(pid=3941)\u001b[0m 2023-11-09 10:05:00.351761: E tensorflow/compiler/xla/stream_executor/cuda/cuda_dnn.cc:9342] Unable to register cuDNN factory: Attempting to register factory for plugin cuDNN when one has already been registered\n",
            "\u001b[2m\u001b[36m(pid=3941)\u001b[0m 2023-11-09 10:05:00.351863: E tensorflow/compiler/xla/stream_executor/cuda/cuda_fft.cc:609] Unable to register cuFFT factory: Attempting to register factory for plugin cuFFT when one has already been registered\n",
            "\u001b[2m\u001b[36m(pid=3941)\u001b[0m 2023-11-09 10:05:00.351945: E tensorflow/compiler/xla/stream_executor/cuda/cuda_blas.cc:1518] Unable to register cuBLAS factory: Attempting to register factory for plugin cuBLAS when one has already been registered\n",
            "\u001b[2m\u001b[36m(pid=3940)\u001b[0m 2023-11-09 10:05:04.941767: W tensorflow/compiler/tf2tensorrt/utils/py_utils.cc:38] TF-TRT Warning: Could not find TensorRT\n",
            "INFO flwr 2023-11-09 10:05:10,318 | server.py:280 | Received initial parameters from one random client\n",
            "INFO:flwr:Received initial parameters from one random client\n",
            "INFO flwr 2023-11-09 10:05:10,323 | server.py:91 | Evaluating initial parameters\n",
            "INFO:flwr:Evaluating initial parameters\n",
            "INFO flwr 2023-11-09 10:05:10,326 | server.py:104 | FL starting\n",
            "INFO:flwr:FL starting\n",
            "DEBUG flwr 2023-11-09 10:05:10,328 | server.py:222 | fit_round 1: strategy sampled 8 clients (out of 10)\n",
            "DEBUG:flwr:fit_round 1: strategy sampled 8 clients (out of 10)\n",
            "DEBUG flwr 2023-11-09 10:05:54,786 | server.py:236 | fit_round 1 received 8 results and 0 failures\n",
            "DEBUG:flwr:fit_round 1 received 8 results and 0 failures\n",
            "WARNING flwr 2023-11-09 10:05:54,827 | <ipython-input-37-311271b23962>:92 | No fit_metrics_aggregation_fn provided\n",
            "WARNING:flwr:No fit_metrics_aggregation_fn provided\n",
            "DEBUG flwr 2023-11-09 10:05:54,830 | server.py:173 | evaluate_round 1: strategy sampled 5 clients (out of 10)\n",
            "DEBUG:flwr:evaluate_round 1: strategy sampled 5 clients (out of 10)\n",
            "DEBUG flwr 2023-11-09 10:06:01,909 | server.py:187 | evaluate_round 1 received 5 results and 0 failures\n",
            "DEBUG:flwr:evaluate_round 1 received 5 results and 0 failures\n",
            "DEBUG flwr 2023-11-09 10:06:01,911 | server.py:222 | fit_round 2: strategy sampled 8 clients (out of 10)\n",
            "DEBUG:flwr:fit_round 2: strategy sampled 8 clients (out of 10)\n",
            "DEBUG flwr 2023-11-09 10:06:41,244 | server.py:236 | fit_round 2 received 8 results and 0 failures\n",
            "DEBUG:flwr:fit_round 2 received 8 results and 0 failures\n"
          ]
        },
        {
          "output_type": "stream",
          "name": "stdout",
          "text": [
            "It: 0. Rec. loss: 1.0056.\n",
            "It: 500. Rec. loss: 0.0137.\n",
            "It: 1000. Rec. loss: 0.0195.\n",
            "It: 1500. Rec. loss: 0.0220.\n",
            "It: 2000. Rec. loss: 0.0046.\n",
            "It: 2500. Rec. loss: 0.0034.\n",
            "It: 3000. Rec. loss: 0.0023.\n",
            "It: 3500. Rec. loss: 0.0023.\n"
          ]
        },
        {
          "output_type": "stream",
          "name": "stderr",
          "text": [
            "DEBUG flwr 2023-11-09 10:07:38,011 | server.py:173 | evaluate_round 2: strategy sampled 5 clients (out of 10)\n",
            "DEBUG:flwr:evaluate_round 2: strategy sampled 5 clients (out of 10)\n"
          ]
        },
        {
          "output_type": "stream",
          "name": "stdout",
          "text": [
            "It: 3999. Rec. loss: 0.0022.\n",
            "Choosing optimal result ...\n",
            "Optimal result score: 0.0022\n",
            "Total time: 56.67642426490784.\n"
          ]
        },
        {
          "output_type": "stream",
          "name": "stderr",
          "text": [
            "DEBUG flwr 2023-11-09 10:07:46,632 | server.py:187 | evaluate_round 2 received 5 results and 0 failures\n",
            "DEBUG:flwr:evaluate_round 2 received 5 results and 0 failures\n",
            "DEBUG flwr 2023-11-09 10:07:46,636 | server.py:222 | fit_round 3: strategy sampled 8 clients (out of 10)\n",
            "DEBUG:flwr:fit_round 3: strategy sampled 8 clients (out of 10)\n",
            "DEBUG flwr 2023-11-09 10:08:23,831 | server.py:236 | fit_round 3 received 8 results and 0 failures\n",
            "DEBUG:flwr:fit_round 3 received 8 results and 0 failures\n",
            "DEBUG flwr 2023-11-09 10:08:23,874 | server.py:173 | evaluate_round 3: strategy sampled 5 clients (out of 10)\n",
            "DEBUG:flwr:evaluate_round 3: strategy sampled 5 clients (out of 10)\n",
            "DEBUG flwr 2023-11-09 10:08:31,963 | server.py:187 | evaluate_round 3 received 5 results and 0 failures\n",
            "DEBUG:flwr:evaluate_round 3 received 5 results and 0 failures\n",
            "DEBUG flwr 2023-11-09 10:08:31,967 | server.py:222 | fit_round 4: strategy sampled 8 clients (out of 10)\n",
            "DEBUG:flwr:fit_round 4: strategy sampled 8 clients (out of 10)\n",
            "DEBUG flwr 2023-11-09 10:09:09,569 | server.py:236 | fit_round 4 received 8 results and 0 failures\n",
            "DEBUG:flwr:fit_round 4 received 8 results and 0 failures\n",
            "DEBUG flwr 2023-11-09 10:09:09,613 | server.py:173 | evaluate_round 4: strategy sampled 5 clients (out of 10)\n",
            "DEBUG:flwr:evaluate_round 4: strategy sampled 5 clients (out of 10)\n",
            "DEBUG flwr 2023-11-09 10:09:17,030 | server.py:187 | evaluate_round 4 received 5 results and 0 failures\n",
            "DEBUG:flwr:evaluate_round 4 received 5 results and 0 failures\n",
            "DEBUG flwr 2023-11-09 10:09:17,038 | server.py:222 | fit_round 5: strategy sampled 8 clients (out of 10)\n",
            "DEBUG:flwr:fit_round 5: strategy sampled 8 clients (out of 10)\n",
            "DEBUG flwr 2023-11-09 10:09:56,501 | server.py:236 | fit_round 5 received 8 results and 0 failures\n",
            "DEBUG:flwr:fit_round 5 received 8 results and 0 failures\n",
            "DEBUG flwr 2023-11-09 10:09:56,537 | server.py:173 | evaluate_round 5: strategy sampled 5 clients (out of 10)\n",
            "DEBUG:flwr:evaluate_round 5: strategy sampled 5 clients (out of 10)\n",
            "DEBUG flwr 2023-11-09 10:10:02,794 | server.py:187 | evaluate_round 5 received 5 results and 0 failures\n",
            "DEBUG:flwr:evaluate_round 5 received 5 results and 0 failures\n",
            "INFO flwr 2023-11-09 10:10:02,797 | server.py:153 | FL finished in 292.468850074\n",
            "INFO:flwr:FL finished in 292.468850074\n",
            "INFO flwr 2023-11-09 10:10:02,800 | app.py:225 | app_fit: losses_distributed [(1, 0.05362549328804016), (2, 0.048794215679168695), (3, 0.04868801150321961), (4, 0.04624451689720154), (5, 0.044618158650398254)]\n",
            "INFO:flwr:app_fit: losses_distributed [(1, 0.05362549328804016), (2, 0.048794215679168695), (3, 0.04868801150321961), (4, 0.04624451689720154), (5, 0.044618158650398254)]\n",
            "INFO flwr 2023-11-09 10:10:02,802 | app.py:226 | app_fit: metrics_distributed_fit {}\n",
            "INFO:flwr:app_fit: metrics_distributed_fit {}\n",
            "INFO flwr 2023-11-09 10:10:02,804 | app.py:227 | app_fit: metrics_distributed {'accuracy': [(1, 0.3872000000000001), (2, 0.446), (3, 0.45999999999999996), (4, 0.48439999999999994), (5, 0.5044000000000001)]}\n",
            "INFO:flwr:app_fit: metrics_distributed {'accuracy': [(1, 0.3872000000000001), (2, 0.446), (3, 0.45999999999999996), (4, 0.48439999999999994), (5, 0.5044000000000001)]}\n",
            "INFO flwr 2023-11-09 10:10:02,806 | app.py:228 | app_fit: losses_centralized []\n",
            "INFO:flwr:app_fit: losses_centralized []\n",
            "INFO flwr 2023-11-09 10:10:02,808 | app.py:229 | app_fit: metrics_centralized {}\n",
            "INFO:flwr:app_fit: metrics_centralized {}\n"
          ]
        },
        {
          "output_type": "execute_result",
          "data": {
            "text/plain": [
              "History (loss, distributed):\n",
              "\tround 1: 0.05362549328804016\n",
              "\tround 2: 0.048794215679168695\n",
              "\tround 3: 0.04868801150321961\n",
              "\tround 4: 0.04624451689720154\n",
              "\tround 5: 0.044618158650398254\n",
              "History (metrics, distributed, evaluate):\n",
              "{'accuracy': [(1, 0.3872000000000001), (2, 0.446), (3, 0.45999999999999996), (4, 0.48439999999999994), (5, 0.5044000000000001)]}"
            ]
          },
          "metadata": {},
          "execution_count": 38
        },
        {
          "output_type": "display_data",
          "data": {
            "text/plain": [
              "<Figure size 1200x3600 with 3 Axes>"
            ],
            "image/png": "[encoded data removed]"
          },
          "metadata": {}
        }
      ],
      "source": [
        "\n",
        "# create a strategy\n",
        "strategy = AttackSimulationStrategy(fraction_fit=0.8, fraction_evaluate=0.5, min_fit_clients=5,\n",
        "    min_evaluate_clients=5, min_available_clients=10, perturbationVector=\"InverseStd\", adversaryKnowledge=\"agr-only\",\n",
        "    evaluate_metrics_aggregation_fn=weighted_average,) # <-- pass the metric aggregation function. This function will be called\n",
        "                                                       # in every federated learning round for evaluation (it aggregates the\n",
        "                                                       # client-side evaluation metrics in the server)\n",
        "\n",
        "# start simulation\n",
        "fl.simulation.start_simulation(\n",
        "    client_fn=client_fn, # out factory function\n",
        "    num_clients=NUM_CLIENTS, # number of clients\n",
        "    config=fl.server.ServerConfig(num_rounds=5), # number of federated learning rounds\n",
        "    strategy=strategy, # our attack simulation strategy\n",
        "    client_resources=None,\n",
        ")"
      ],
      "id": "1befdde0"
    }
  ],
  "metadata": {
    "colab": {
      "provenance": []
    },
    "kernelspec": {
      "display_name": "Python 3",
      "name": "python3"
    },
    "language_info": {
      "codemirror_mode": {
        "name": "ipython",
        "version": 3
      },
      "file_extension": ".py",
      "mimetype": "text/x-python",
      "name": "python",
      "nbconvert_exporter": "python",
      "pygments_lexer": "ipython3",
      "version": "3.9.13"
    }
  },
  "nbformat": 4,
  "nbformat_minor": 5
}